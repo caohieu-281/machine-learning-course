{
 "cells": [
  {
   "cell_type": "code",
   "execution_count": 1,
   "metadata": {
    "id": "5Rgz4XEHXxw6"
   },
   "outputs": [],
   "source": [
    "### NOTE: this notebook is from https://machinelearningcoban.com/2017/04/09/smv/"
   ]
  },
  {
   "cell_type": "code",
   "execution_count": 2,
   "metadata": {
    "id": "cd2KgrSPP8Rh"
   },
   "outputs": [],
   "source": [
    "import numpy as np \n",
    "import matplotlib.pyplot as plt\n",
    "\n",
    "# Compute distance between each pair of the two collections of inputs\n",
    "from scipy.spatial.distance import cdist\n",
    "np.random.seed(1)"
   ]
  },
  {
   "cell_type": "code",
   "execution_count": 3,
   "metadata": {
    "id": "bBE6eI2sXvl-"
   },
   "outputs": [],
   "source": [
    "means = [[1, 1], [5, 4]]\n",
    "cov = [[.5, .3], [.3, .5]]\n",
    "N = 20\n",
    "X0 = np.random.multivariate_normal(means[0], cov, N)\n",
    "X1 = np.random.multivariate_normal(means[1], cov, N)\n",
    "X = np.vstack((X0, X1)).T\n",
    "y = np.hstack((np.ones((1, N)), -1*np.ones((1, N))))"
   ]
  },
  {
   "cell_type": "code",
   "execution_count": 4,
   "metadata": {},
   "outputs": [
    {
     "data": {
      "text/plain": [
       "(array([[ 0.16612815, -0.22078058],\n",
       "        [ 1.67334762,  0.99474268],\n",
       "        [ 1.1804786 , -0.27514228],\n",
       "        [ 0.13719891, -0.34423061],\n",
       "        [ 0.8770798 ,  0.71936412],\n",
       "        [ 0.72675544, -0.57619195],\n",
       "        [ 1.32536319,  1.08246589],\n",
       "        [ 0.6307574 , -0.06487491],\n",
       "        [ 1.38665638,  0.83144997],\n",
       "        [ 0.78899933,  1.15760404],\n",
       "        [ 1.33409927,  2.05808611],\n",
       "        [ 0.2708813 ,  0.58868662],\n",
       "        [ 0.6464624 ,  0.21403494],\n",
       "        [ 1.37363888,  0.78180633],\n",
       "        [ 1.00171417,  1.33714042],\n",
       "        [ 1.56290915,  1.31198019],\n",
       "        [ 1.70188367,  1.16732868],\n",
       "        [ 1.42853823,  1.42052843],\n",
       "        [ 1.63252036,  1.78077786],\n",
       "        [-0.28440604,  0.1849039 ]]),\n",
       " array([[5.40202038, 3.84063453],\n",
       "        [4.93734326, 5.00774553],\n",
       "        [5.16930206, 3.76643064],\n",
       "        [4.21509546, 4.54341344],\n",
       "        [4.72882805, 4.11918157],\n",
       "        [4.9215468 , 3.69876444],\n",
       "        [5.83306382, 4.61212009],\n",
       "        [4.94660977, 4.31762285],\n",
       "        [4.17493997, 3.76382063],\n",
       "        [4.5394725 , 4.09928493],\n",
       "        [5.08093145, 4.87331485],\n",
       "        [4.76985993, 3.58132947],\n",
       "        [4.71493187, 3.66713612],\n",
       "        [3.80368646, 3.76490301],\n",
       "        [4.05933166, 2.17610983],\n",
       "        [6.07286388, 4.75381165],\n",
       "        [4.62171473, 4.17585261],\n",
       "        [5.4398511 , 3.16089876],\n",
       "        [4.93183185, 4.45548899],\n",
       "        [4.61350622, 4.0954444 ]]),\n",
       " array([[ 0.16612815,  1.67334762,  1.1804786 ,  0.13719891,  0.8770798 ,\n",
       "          0.72675544,  1.32536319,  0.6307574 ,  1.38665638,  0.78899933,\n",
       "          1.33409927,  0.2708813 ,  0.6464624 ,  1.37363888,  1.00171417,\n",
       "          1.56290915,  1.70188367,  1.42853823,  1.63252036, -0.28440604,\n",
       "          5.40202038,  4.93734326,  5.16930206,  4.21509546,  4.72882805,\n",
       "          4.9215468 ,  5.83306382,  4.94660977,  4.17493997,  4.5394725 ,\n",
       "          5.08093145,  4.76985993,  4.71493187,  3.80368646,  4.05933166,\n",
       "          6.07286388,  4.62171473,  5.4398511 ,  4.93183185,  4.61350622],\n",
       "        [-0.22078058,  0.99474268, -0.27514228, -0.34423061,  0.71936412,\n",
       "         -0.57619195,  1.08246589, -0.06487491,  0.83144997,  1.15760404,\n",
       "          2.05808611,  0.58868662,  0.21403494,  0.78180633,  1.33714042,\n",
       "          1.31198019,  1.16732868,  1.42052843,  1.78077786,  0.1849039 ,\n",
       "          3.84063453,  5.00774553,  3.76643064,  4.54341344,  4.11918157,\n",
       "          3.69876444,  4.61212009,  4.31762285,  3.76382063,  4.09928493,\n",
       "          4.87331485,  3.58132947,  3.66713612,  3.76490301,  2.17610983,\n",
       "          4.75381165,  4.17585261,  3.16089876,  4.45548899,  4.0954444 ]]),\n",
       " array([[ 1.,  1.,  1.,  1.,  1.,  1.,  1.,  1.,  1.,  1.,  1.,  1.,  1.,\n",
       "          1.,  1.,  1.,  1.,  1.,  1.,  1., -1., -1., -1., -1., -1., -1.,\n",
       "         -1., -1., -1., -1., -1., -1., -1., -1., -1., -1., -1., -1., -1.,\n",
       "         -1.]]))"
      ]
     },
     "execution_count": 4,
     "metadata": {},
     "output_type": "execute_result"
    }
   ],
   "source": [
    "X0, X1, X, y"
   ]
  },
  {
   "cell_type": "markdown",
   "metadata": {
    "id": "8xIebRWVICUe"
   },
   "source": [
    "### SVM Primal problem:\n",
    "$$\\begin{array}{c}\n",
    "\\min _{w, b} \\frac{1}{2}|| w||^{2} \\\\\n",
    "y_{i}\\left(w^{T} x_{i}+b\\right) \\geq 1, \\forall i\n",
    "\\end{array}$$\n",
    "\n",
    "\n",
    "### Lagrangian:\n",
    "$$\\mathcal{L}(w, b, \\boldsymbol{\\alpha})=\\frac{1}{2}|| w||^{2}-\\sum_{i} \\alpha_{i}\\left[y_{i}\\left(w^{T} x_{i}+b\\right)-1\\right]$$\n",
    "where $\\alpha_i \\geq 0$  is lagrangian multiplier\n",
    "\n",
    "\n",
    "### Lagrange dual function:\n",
    "$$\\mathcal{g}(\\alpha) = \\sum_i \\alpha_i - \\frac{1}{2}\\sum_{ij} \\alpha_i \\alpha_j y_i y_j x_i^\\top x_j \\\\\n",
    "\\text{with} \\sum_i \\alpha_i y_i = 0 \\text{,}\\space \\alpha_i \\geq 0$$\n",
    "\n",
    "\n",
    "Let:\n",
    "\n",
    "$\\mathbf{V}=\\left[y_{1} x_{1}, y_{2} x_{2}, \\ldots, y_{N} x_{N}\\right]$\n",
    "\n",
    "$\\mathbf{1}=[1,1, \\ldots, 1]^{T}$\n",
    "\n",
    "$\\mathbf{K} = \\mathbf{V}^{T} \\mathbf{V}$\n",
    "\n",
    "$$=> g(\\alpha)=-\\frac{1}{2} \\alpha^{T} \\mathbf{K} \\alpha+\\mathbf{1}^{T} \\alpha$$\n",
    "\n"
   ]
  },
  {
   "cell_type": "code",
   "execution_count": 5,
   "metadata": {
    "id": "z-5n5wt5jS8V"
   },
   "outputs": [],
   "source": [
    "#solving the problem\n",
    "from cvxopt import matrix, solvers\n",
    "# build V\n",
    "# your code is here \n",
    "V = np.concatenate((X0.T, -X1.T), axis = 1)\n",
    "##########\n",
    "\n",
    "# your code is here\n",
    "K = matrix(V.T.dot(V))\n",
    "##########\n",
    "\n",
    "p = matrix(-np.ones((2*N, 1))) # all-one vector \n",
    "# build A, b, G, h \n",
    "G = matrix(-np.eye(2*N)) # for all lambda_n >= 0\n",
    "h = matrix(np.zeros((2*N, 1)))\n",
    "A = matrix(y) # the equality constrain is actually y^T lambda = 0\n",
    "b = matrix(np.zeros((1, 1))) \n",
    "\n",
    "\n",
    "solvers.options['show_progress'] = False\n",
    "sol = solvers.qp(K, p, G, h, A, b)\n",
    "\n",
    "alpha = np.array(sol['x'])"
   ]
  },
  {
   "cell_type": "markdown",
   "metadata": {
    "id": "uZ9VAdCHR1j1"
   },
   "source": [
    "Support vectors are positive solutions ($\\alpha > 0$) of the Lagrange dual function.\n",
    "\n",
    "$w$ and $b$ can be calculated from support vector S:\n",
    "\n",
    "$$w=\\sum_{m \\in \\mathcal{S}} \\lambda_{m} y_{m} x_{m}$$\n",
    "\n",
    "$$b=\\frac{1}{N_{\\mathcal{S}}} \\sum_{n \\in \\mathcal{S}}\\left(y_{n}-\\mathbf{w}^{T} \\mathbf{x}_{n}\\right)$$\n",
    "where  $N_{\\mathcal{S}}$ is the number of support vectors.\n"
   ]
  },
  {
   "cell_type": "code",
   "execution_count": 6,
   "metadata": {
    "id": "cqm2RjQBXJ1I"
   },
   "outputs": [],
   "source": [
    "# Finding support vector\n",
    "epsilon = 1e-5 # just a small number, greater than 1e-9\n",
    "S = np.where(alpha > epsilon)[0]\n",
    "alphaS = alpha[S]"
   ]
  },
  {
   "cell_type": "code",
   "execution_count": 7,
   "metadata": {
    "id": "1nF0jQ2IZQTH"
   },
   "outputs": [
    {
     "data": {
      "text/plain": [
       "array([[3.30813550e-01],\n",
       "       [1.43593234e-05],\n",
       "       [3.30799231e-01]])"
      ]
     },
     "execution_count": 7,
     "metadata": {},
     "output_type": "execute_result"
    }
   ],
   "source": [
    "alphaS"
   ]
  },
  {
   "cell_type": "code",
   "execution_count": 8,
   "metadata": {},
   "outputs": [
    {
     "data": {
      "text/plain": [
       "(array([[ 1.63252036, -3.80368646, -4.05933166],\n",
       "        [ 1.78077786, -3.76490301, -2.17610983]]),\n",
       " array([[1.63252036, 3.80368646, 4.05933166],\n",
       "        [1.78077786, 3.76490301, 2.17610983]]),\n",
       " array([[ 1., -1., -1.]]))"
      ]
     },
     "execution_count": 8,
     "metadata": {},
     "output_type": "execute_result"
    }
   ],
   "source": [
    "VS = V[:, S]\n",
    "XS = X[:, S]\n",
    "yS = y[:, S]\n",
    "VS, XS, yS"
   ]
  },
  {
   "cell_type": "code",
   "execution_count": 9,
   "metadata": {
    "id": "Hyvv9f_hzHl6"
   },
   "outputs": [
    {
     "name": "stdout",
     "output_type": "stream",
     "text": [
      "w =  [[-0.80281855 -0.13080407]]\n",
      "b =  2.5444120388856324\n"
     ]
    }
   ],
   "source": [
    "VS = V[:, S]\n",
    "XS = X[:, S]\n",
    "yS = y[:, S]\n",
    "# calculate w and b\n",
    "### your code is here\n",
    "w = VS.dot(alphaS)\n",
    "b = np.sum(yS - w.T.dot(XS)) / len(alphaS)\n",
    "###########\n",
    "\n",
    "print('w = ', w.T)\n",
    "print('b = ', b)"
   ]
  },
  {
   "cell_type": "code",
   "execution_count": 10,
   "metadata": {
    "id": "CQJozTzFzLah"
   },
   "outputs": [
    {
     "data": {
      "image/png": "[encoded data removed]",
      "text/plain": [
       "<Figure size 576x576 with 1 Axes>"
      ]
     },
     "metadata": {},
     "output_type": "display_data"
    }
   ],
   "source": [
    "def plot(w, b, X0, X1, X, S):\n",
    "    fig, ax = plt.subplots(figsize=(8,8))\n",
    "    x1 = np.arange(-10, 10, 0.1)\n",
    "    y1 = -w[0, 0]/w[1, 0]*x1 - b/w[1, 0]\n",
    "    y2 = -w[0, 0]/w[1, 0]*x1 - (b-1)/w[1, 0]\n",
    "    y3 = -w[0, 0]/w[1, 0]*x1 - (b+1)/w[1, 0]\n",
    "    plt.plot(x1, y1, 'k', linewidth = 3)\n",
    "    plt.plot(x1, y2, 'k')\n",
    "    plt.plot(x1, y3, 'k')\n",
    "\n",
    "    plt.plot(X0[:, 0], X0[:, 1], 'bs', markersize = 8, alpha = .8)\n",
    "    plt.plot(X1[:, 0], X1[:, 1], 'ro', markersize = 8, alpha = .8)\n",
    "\n",
    "    plt.axis('equal')\n",
    "    plt.ylim(np.min(X[1, :])*1.05, np.max(X[1, :])*1.05)\n",
    "    plt.xlim(np.min(X[0, :])*1.05, np.max(X[0, :])*1.05)\n",
    "\n",
    "    # hide tikcs \n",
    "    cur_axes = plt.gca()\n",
    "    cur_axes.axes.get_xaxis().set_ticks([])\n",
    "    cur_axes.axes.get_yaxis().set_ticks([])\n",
    "\n",
    "    # add circles around support vectors \n",
    "    for m in S:\n",
    "        circle = plt.Circle((X[0, m], X[1, m] ), 0.1, color='k', fill = False)\n",
    "        ax.add_artist(circle)\n",
    "\n",
    "\n",
    "    plt.xlabel('$x_1$', fontsize = 20)\n",
    "    plt.ylabel('$x_2$', fontsize = 20)\n",
    "    plt.show()\n",
    "\n",
    "plot(w, b, X0, X1, X, S)"
   ]
  }
 ],
 "metadata": {
  "colab": {
   "collapsed_sections": [],
   "name": "homework.ipynb",
   "provenance": []
  },
  "kernelspec": {
   "display_name": "Python 3",
   "language": "python",
   "name": "python3"
  },
  "language_info": {
   "codemirror_mode": {
    "name": "ipython",
    "version": 3
   },
   "file_extension": ".py",
   "mimetype": "text/x-python",
   "name": "python",
   "nbconvert_exporter": "python",
   "pygments_lexer": "ipython3",
   "version": "3.8.5"
  }
 },
 "nbformat": 4,
 "nbformat_minor": 1
}
