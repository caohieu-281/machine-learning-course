{
 "cells": [
  {
   "cell_type": "markdown",
   "metadata": {},
   "source": [
    "# Homework 3: Logistics Regression\n",
    "Implement everywhere that has an ellipsis (`...`)."
   ]
  },
  {
   "cell_type": "code",
   "execution_count": 1,
   "metadata": {},
   "outputs": [],
   "source": [
    "import numpy as np\n",
    "import matplotlib.pyplot as plt"
   ]
  },
  {
   "cell_type": "markdown",
   "metadata": {},
   "source": [
    "### Load dataset"
   ]
  },
  {
   "cell_type": "code",
   "execution_count": 2,
   "metadata": {},
   "outputs": [],
   "source": [
    "from sklearn.datasets import load_iris\n",
    "data = load_iris()\n",
    "X, Y = data.data, data.target"
   ]
  },
  {
   "cell_type": "code",
   "execution_count": 3,
   "metadata": {},
   "outputs": [
    {
     "data": {
      "text/plain": [
       "<matplotlib.collections.PathCollection at 0x7f766998f7c0>"
      ]
     },
     "execution_count": 3,
     "metadata": {},
     "output_type": "execute_result"
    },
    {
     "data": {
      "image/png": "[encoded data removed]",
      "text/plain": [
       "<Figure size 432x288 with 1 Axes>"
      ]
     },
     "metadata": {
      "needs_background": "light"
     },
     "output_type": "display_data"
    }
   ],
   "source": [
    "# only classify class 1 vs. class 2\n",
    "X = X[Y >= 1, :]\n",
    "Y = Y[Y >= 1]\n",
    "plt.scatter(X[:,1], X[:,2], c=Y)"
   ]
  },
  {
   "cell_type": "code",
   "execution_count": 4,
   "metadata": {},
   "outputs": [],
   "source": [
    "Y[Y == 2] = 0\n",
    "Y = Y.reshape(100, 1)"
   ]
  },
  {
   "cell_type": "code",
   "execution_count": 5,
   "metadata": {},
   "outputs": [
    {
     "name": "stdout",
     "output_type": "stream",
     "text": [
      "Training set: (80, 4) (80, 1)\n",
      "Test set: (20, 4) (20, 1)\n"
     ]
    }
   ],
   "source": [
    "from sklearn.model_selection import train_test_split\n",
    "\n",
    "X_train, X_test, y_train, y_test = train_test_split(X, Y, test_size=0.2, random_state=102)\n",
    "\n",
    "print('Training set:', X_train.shape, y_train.shape)\n",
    "print('Test set:', X_test.shape, y_test.shape)"
   ]
  },
  {
   "cell_type": "markdown",
   "metadata": {},
   "source": [
    "### Define classification model\n",
    "Create parameters here. Initialize with zeros. In case you forgot: $Y = \\sigma(X\\Theta)$."
   ]
  },
  {
   "cell_type": "code",
   "execution_count": 6,
   "metadata": {},
   "outputs": [],
   "source": [
    "# Initialize weight and bias\n",
    "def initialize(X):\n",
    "    w = np.zeros((X.shape[1], 1))\n",
    "    b = np.zeros((1, 1))\n",
    "    return w, b"
   ]
  },
  {
   "cell_type": "code",
   "execution_count": 7,
   "metadata": {},
   "outputs": [],
   "source": [
    "# Sigmoid\n",
    "def sigmoid(X):\n",
    "    return 1 / (1 + np.exp(-X))"
   ]
  },
  {
   "cell_type": "code",
   "execution_count": 8,
   "metadata": {},
   "outputs": [],
   "source": [
    "def forward(X, w, b):\n",
    "    Z = np.dot(X, w) + b\n",
    "    y_hat = sigmoid(Z)\n",
    "    return y_hat"
   ]
  },
  {
   "cell_type": "code",
   "execution_count": 9,
   "metadata": {},
   "outputs": [],
   "source": [
    "# Binary cross entropy loss\n",
    "def binary_cross_entropy(Y, Y_hat):\n",
    "    J = -np.mean(Y * np.log(Y_hat) + (1 - Y) * np.log(1 - Y_hat))\n",
    "    return J"
   ]
  },
  {
   "cell_type": "markdown",
   "metadata": {},
   "source": [
    "### Hyperparameters"
   ]
  },
  {
   "cell_type": "code",
   "execution_count": 10,
   "metadata": {},
   "outputs": [],
   "source": [
    "# learning rate\n",
    "alpha = 0.015\n",
    "# epochs\n",
    "epoch = 10000"
   ]
  },
  {
   "cell_type": "markdown",
   "metadata": {},
   "source": [
    "### Train the model."
   ]
  },
  {
   "cell_type": "code",
   "execution_count": 11,
   "metadata": {},
   "outputs": [],
   "source": [
    "# Gradient Descent Loss Function\n",
    "def gradient(X, Y, y_hat):\n",
    "    N = X.shape[0]\n",
    "    dw = (1/N) * (np.dot(X.T, (y_hat - Y)))\n",
    "    db = (1/N) * (np.sum(y_hat - Y, keepdims= True))\n",
    "    return dw, db"
   ]
  },
  {
   "cell_type": "code",
   "execution_count": 12,
   "metadata": {},
   "outputs": [],
   "source": [
    "# Update dw, db\n",
    "def update(w, b, dw, db, learning_rate):\n",
    "    w = w - learning_rate * dw\n",
    "    b = b - learning_rate * db\n",
    "    return w,b"
   ]
  },
  {
   "cell_type": "code",
   "execution_count": 13,
   "metadata": {},
   "outputs": [],
   "source": [
    "# your code here\n",
    "# X_test, y_test chỉ dùng để lấy loss của tập test, ko tham gia vào quá trình train\n",
    "\n",
    "def train(X, Y, learning_rate, epochs, X_test, y_test):\n",
    "    w, b = initialize(X)\n",
    "    \n",
    "    train_loss = []\n",
    "    test_loss = []\n",
    "    \n",
    "    for i in range(epochs):\n",
    "        y_hat = forward(X, w, b)\n",
    "        \n",
    "        # Training loss\n",
    "        J_train = binary_cross_entropy(Y, y_hat)\n",
    "        train_loss.append(J_train)\n",
    "        \n",
    "        # Test loss\n",
    "        J_test = binary_cross_entropy(y_test, forward(X_test, w, b))\n",
    "        test_loss.append(J_test)\n",
    "        if i % 1000 == 0:\n",
    "            print(f'Step {i}: Train loss = {J_train}')\n",
    "        \n",
    "        dw, db = gradient(X, Y, y_hat)\n",
    "        w, b = update(w, b, dw, db, learning_rate)\n",
    "        \n",
    "    return w, b, train_loss, test_loss"
   ]
  },
  {
   "cell_type": "code",
   "execution_count": 14,
   "metadata": {},
   "outputs": [
    {
     "name": "stdout",
     "output_type": "stream",
     "text": [
      "Step 0: Train loss = 0.6931471805599453\n",
      "Step 1000: Train loss = 0.3789423433652798\n",
      "Step 2000: Train loss = 0.27810564198227644\n",
      "Step 3000: Train loss = 0.2294640777149668\n",
      "Step 4000: Train loss = 0.20044143015807664\n",
      "Step 5000: Train loss = 0.1808922139938759\n",
      "Step 6000: Train loss = 0.1666704775007823\n",
      "Step 7000: Train loss = 0.155763493536259\n",
      "Step 8000: Train loss = 0.14707215161549603\n",
      "Step 9000: Train loss = 0.13994285348239896\n"
     ]
    }
   ],
   "source": [
    "w, b, train_loss, test_loss = train(X_train, y_train, learning_rate= alpha, epochs= epoch, X_test= X_test, y_test= y_test)"
   ]
  },
  {
   "cell_type": "code",
   "execution_count": 15,
   "metadata": {},
   "outputs": [],
   "source": [
    "def plot(train_loss, test_loss):  \n",
    "    plt.figure(figsize=(10, 6))\n",
    "    plt.plot(train_loss, label='Training Loss', alpha=0.5)\n",
    "    plt.plot(test_loss, label='Test Loss', alpha=0.5)\n",
    "    plt.legend()\n",
    "    plt.show()"
   ]
  },
  {
   "cell_type": "code",
   "execution_count": 16,
   "metadata": {},
   "outputs": [],
   "source": [
    "def predict(X, w, b):\n",
    "    Z = np.dot(X, w) + b\n",
    "    y_hat = sigmoid(Z)\n",
    "    \n",
    "    return y_hat > 0.46"
   ]
  },
  {
   "cell_type": "code",
   "execution_count": 17,
   "metadata": {},
   "outputs": [
    {
     "data": {
      "image/png": "[encoded data removed]",
      "text/plain": [
       "<Figure size 720x432 with 1 Axes>"
      ]
     },
     "metadata": {
      "needs_background": "light"
     },
     "output_type": "display_data"
    }
   ],
   "source": [
    "plot(train_loss, test_loss)"
   ]
  },
  {
   "cell_type": "code",
   "execution_count": 18,
   "metadata": {},
   "outputs": [],
   "source": [
    "# just to double check\n",
    "# assert np.allclose(w, np.array([0.12047504, -0.44156746, -0.89309501, 2.965364, 3.3427994]))"
   ]
  },
  {
   "cell_type": "markdown",
   "metadata": {},
   "source": [
    "### Define evaluation metrics"
   ]
  },
  {
   "cell_type": "code",
   "execution_count": 19,
   "metadata": {},
   "outputs": [],
   "source": [
    "def accuracy(X, Y, weight, bias):\n",
    "    '''\n",
    "    Evaluate the model, represented by `weight`, with data (X, Y).\n",
    "    \n",
    "    Input:\n",
    "        X:      data features\n",
    "        Y:      data labels\n",
    "        weight: model weights\n",
    "    Ouput:\n",
    "        Model accuracy on input data.\n",
    "    '''\n",
    "    \n",
    "    # implement your code here\n",
    "    y_hat = predict(X, weight, bias)\n",
    "    \n",
    "    count = 0\n",
    "    for i in range(len(Y)):\n",
    "        if y_hat[i] == Y[i]:\n",
    "            count += 1\n",
    "        \n",
    "    return count/len(Y) * 100"
   ]
  },
  {
   "cell_type": "code",
   "execution_count": 20,
   "metadata": {},
   "outputs": [
    {
     "name": "stdout",
     "output_type": "stream",
     "text": [
      "Train set accuracy: 98.75%\n",
      "Test set accuracy: 90.0%\n",
      "Weight matrix: \n",
      "[[ 2.8105939 ]\n",
      " [ 2.51105828]\n",
      " [-4.0085978 ]\n",
      " [-4.26208094]]\n",
      "Bias:  [[1.945852]]\n"
     ]
    }
   ],
   "source": [
    "# Model accuracy\n",
    "\n",
    "print('Train set accuracy: ' + str(accuracy(X_train, y_train, w, b)) + '%')\n",
    "print('Test set accuracy: ' +  str(accuracy(X_test, y_test, w, b)) + '%')\n",
    "print('Weight matrix: ')\n",
    "print(w)\n",
    "print('Bias: ', b)"
   ]
  },
  {
   "cell_type": "markdown",
   "metadata": {},
   "source": [
    "## Data normalization\n",
    "Remember: normalization is done per feature, not all at once. Also, remember that Y is [1, 2] instead of [0, 1]."
   ]
  },
  {
   "cell_type": "markdown",
   "metadata": {},
   "source": [
    "### Feature normalization with MinMaxScaler"
   ]
  },
  {
   "cell_type": "code",
   "execution_count": 21,
   "metadata": {},
   "outputs": [],
   "source": [
    "def MinMaxScaler(X):\n",
    "    for i in range(X.shape[1]):\n",
    "        X[:,i:i+1] = (X[:,i:i+1] - np.min(X[:,i:i+1])) / (np.max(X[:,i:i+1] - np.min(X[:,i:i+1])))\n",
    "        \n",
    "    return X"
   ]
  },
  {
   "cell_type": "code",
   "execution_count": 22,
   "metadata": {},
   "outputs": [],
   "source": [
    "X_train_minmax = X_train.copy()\n",
    "X_train_minmax = MinMaxScaler(X_train_minmax)\n",
    "\n",
    "X_test_minmax = X_test.copy()\n",
    "X_test_minmax = MinMaxScaler(X_test_minmax)"
   ]
  },
  {
   "cell_type": "code",
   "execution_count": 23,
   "metadata": {},
   "outputs": [
    {
     "name": "stdout",
     "output_type": "stream",
     "text": [
      "Step 0: Train loss = 0.6931471805599453\n",
      "Step 1000: Train loss = 0.5166450320790084\n",
      "Step 2000: Train loss = 0.4228302914418382\n",
      "Step 3000: Train loss = 0.36464383978496695\n",
      "Step 4000: Train loss = 0.32502466587606343\n",
      "Step 5000: Train loss = 0.29611730576985673\n",
      "Step 6000: Train loss = 0.2739275741906443\n",
      "Step 7000: Train loss = 0.25623528341320345\n",
      "Step 8000: Train loss = 0.2417125817288226\n",
      "Step 9000: Train loss = 0.22951674167066435\n"
     ]
    }
   ],
   "source": [
    "w_, b_, train_loss_, test_loss_ = train(X_train_minmax, y_train, learning_rate= alpha, epochs= epoch, X_test= X_test_minmax, y_test= y_test)"
   ]
  },
  {
   "cell_type": "code",
   "execution_count": 24,
   "metadata": {},
   "outputs": [
    {
     "data": {
      "image/png": "[encoded data removed]",
      "text/plain": [
       "<Figure size 720x432 with 1 Axes>"
      ]
     },
     "metadata": {
      "needs_background": "light"
     },
     "output_type": "display_data"
    }
   ],
   "source": [
    "plot(train_loss_, test_loss_)"
   ]
  },
  {
   "cell_type": "code",
   "execution_count": 25,
   "metadata": {},
   "outputs": [
    {
     "name": "stdout",
     "output_type": "stream",
     "text": [
      "Train set accuracy: 93.75%\n",
      "Test set accuracy: 95.0%\n",
      "Weight matrix: \n",
      "[[-0.38213527]\n",
      " [ 1.17665559]\n",
      " [-3.55789178]\n",
      " [-5.38522669]]\n",
      "Bias:  [[3.52612777]]\n"
     ]
    }
   ],
   "source": [
    "print('Train set accuracy: ' + str(accuracy(X_train_minmax, y_train, w_, b_)) + '%')\n",
    "print('Test set accuracy: ' +  str(accuracy(X_test_minmax, y_test, w_, b_)) + '%')\n",
    "print('Weight matrix: ')\n",
    "print(w_)\n",
    "print('Bias: ', b_)"
   ]
  },
  {
   "cell_type": "markdown",
   "metadata": {},
   "source": [
    "### Feature normalization with Mean Normalization"
   ]
  },
  {
   "cell_type": "code",
   "execution_count": 26,
   "metadata": {},
   "outputs": [],
   "source": [
    "def MeanScaler(X):\n",
    "    for i in range(X.shape[1]):\n",
    "        X[:,i:i+1] = (X[:,i:i+1] - np.mean(X[:,i:i+1])) / (np.max(X[:,i:i+1] - np.min(X[:,i:i+1])))\n",
    "        \n",
    "    return X"
   ]
  },
  {
   "cell_type": "code",
   "execution_count": 27,
   "metadata": {},
   "outputs": [],
   "source": [
    "X_train_mean = X_train.copy()\n",
    "X_train_mean = MeanScaler(X_train_mean)\n",
    "\n",
    "X_test_mean = X_test.copy()\n",
    "X_test_mean = MeanScaler(X_test_mean)"
   ]
  },
  {
   "cell_type": "code",
   "execution_count": 28,
   "metadata": {},
   "outputs": [
    {
     "name": "stdout",
     "output_type": "stream",
     "text": [
      "Step 0: Train loss = 0.6931471805599453\n",
      "Step 1000: Train loss = 0.4650065717367597\n",
      "Step 2000: Train loss = 0.3744792806895507\n",
      "Step 3000: Train loss = 0.32558690274670693\n",
      "Step 4000: Train loss = 0.2939391777543167\n",
      "Step 5000: Train loss = 0.2711413990489304\n",
      "Step 6000: Train loss = 0.25356639807925935\n",
      "Step 7000: Train loss = 0.239384128422442\n",
      "Step 8000: Train loss = 0.22756362102988845\n",
      "Step 9000: Train loss = 0.21747440773748453\n"
     ]
    }
   ],
   "source": [
    "_w_, _b_, train_loss_, test_loss_ = train(X_train_mean, y_train, learning_rate= alpha, epochs= epoch, X_test= X_test_mean, y_test= y_test)"
   ]
  },
  {
   "cell_type": "code",
   "execution_count": 29,
   "metadata": {},
   "outputs": [
    {
     "data": {
      "image/png": "[encoded data removed]",
      "text/plain": [
       "<Figure size 720x432 with 1 Axes>"
      ]
     },
     "metadata": {
      "needs_background": "light"
     },
     "output_type": "display_data"
    }
   ],
   "source": [
    "plot(train_loss_, test_loss_)"
   ]
  },
  {
   "cell_type": "code",
   "execution_count": 30,
   "metadata": {},
   "outputs": [
    {
     "name": "stdout",
     "output_type": "stream",
     "text": [
      "Train set accuracy: 55.00000000000001%\n",
      "Test set accuracy: 45.0%\n",
      "Weight matrix: \n",
      "[[-0.89948539]\n",
      " [ 0.36207418]\n",
      " [-4.08461758]\n",
      " [-5.71845499]]\n",
      "Bias:  [[-0.01852919]]\n"
     ]
    }
   ],
   "source": [
    "print('Train set accuracy: ' + str(accuracy(X_train_mean, y_train, w_, b_)) + '%')\n",
    "print('Test set accuracy: ' +  str(accuracy(X_test_mean, y_test, w_, b_)) + '%')\n",
    "print('Weight matrix: ')\n",
    "print(_w_)\n",
    "print('Bias: ', _b_)"
   ]
  },
  {
   "cell_type": "markdown",
   "metadata": {},
   "source": [
    "### Feature normalization with StandardScaler"
   ]
  },
  {
   "cell_type": "code",
   "execution_count": 31,
   "metadata": {},
   "outputs": [],
   "source": [
    "def StandardScaler(X):\n",
    "    nuy = []\n",
    "    for i in range(X.shape[1]):\n",
    "        nuy.append(np.mean(X[:,i:i+1]))\n",
    "    \n",
    "    for i in range(X.shape[1]):\n",
    "        X[:,i:i+1] = (X[:,i:i+1] - nuy[i]) / (np.sqrt(np.sum((X[:,i:i+1] - nuy[i])**2) / (X.shape[0])))\n",
    "        \n",
    "    return X"
   ]
  },
  {
   "cell_type": "code",
   "execution_count": 32,
   "metadata": {},
   "outputs": [],
   "source": [
    "X_train_standard = X_train.copy()\n",
    "X_train_standard = StandardScaler(X_train_standard)\n",
    "\n",
    "X_test_standard = X_test.copy()\n",
    "X_test_standard = StandardScaler(X_test_standard)"
   ]
  },
  {
   "cell_type": "code",
   "execution_count": 33,
   "metadata": {},
   "outputs": [
    {
     "name": "stdout",
     "output_type": "stream",
     "text": [
      "Step 0: Train loss = 0.6931471805599453\n",
      "Step 1000: Train loss = 0.17425323706286933\n",
      "Step 2000: Train loss = 0.12595174988931704\n",
      "Step 3000: Train loss = 0.10439790554055425\n",
      "Step 4000: Train loss = 0.09177680106726564\n",
      "Step 5000: Train loss = 0.0832986309478766\n",
      "Step 6000: Train loss = 0.07711383862509663\n",
      "Step 7000: Train loss = 0.07234756883962876\n",
      "Step 8000: Train loss = 0.06852799957377273\n",
      "Step 9000: Train loss = 0.06537621597506656\n"
     ]
    }
   ],
   "source": [
    "w__, b__, train_loss__, test_loss__ = train(X_train_standard, y_train, learning_rate= alpha, epochs= epoch, X_test= X_test_standard, y_test= y_test)"
   ]
  },
  {
   "cell_type": "code",
   "execution_count": 34,
   "metadata": {},
   "outputs": [
    {
     "data": {
      "image/png": "[encoded data removed]",
      "text/plain": [
       "<Figure size 720x432 with 1 Axes>"
      ]
     },
     "metadata": {
      "needs_background": "light"
     },
     "output_type": "display_data"
    }
   ],
   "source": [
    "plot(train_loss__, test_loss__)"
   ]
  },
  {
   "cell_type": "code",
   "execution_count": 35,
   "metadata": {},
   "outputs": [
    {
     "name": "stdout",
     "output_type": "stream",
     "text": [
      "Train set accuracy: 100.0%\n",
      "Test set accuracy: 90.0%\n",
      "Weight matrix: \n",
      "[[ 0.86131504]\n",
      " [ 1.15951166]\n",
      " [-3.579253  ]\n",
      " [-3.95693094]]\n",
      "Bias:  [[-0.05869369]]\n"
     ]
    }
   ],
   "source": [
    "print('Train set accuracy: ' + str(accuracy(X_train_standard, y_train, w__, b__)) + '%')\n",
    "print('Test set accuracy: ' +  str(accuracy(X_test_standard, y_test, w__, b__)) + '%')\n",
    "print('Weight matrix: ')\n",
    "print(w__)\n",
    "print('Bias: ', b__)"
   ]
  },
  {
   "cell_type": "markdown",
   "metadata": {},
   "source": [
    "### Feature normalization with Unit Vector Normalization"
   ]
  },
  {
   "cell_type": "code",
   "execution_count": 36,
   "metadata": {},
   "outputs": [],
   "source": [
    "def UnitVectorNorm(X):\n",
    "    for i in range(X.shape[0]):\n",
    "        X[i:i+1,:] = X[i:i+1,:] / np.sqrt(np.sum(X[i:i+1,:] ** 2))\n",
    "        \n",
    "    return X"
   ]
  },
  {
   "cell_type": "code",
   "execution_count": 37,
   "metadata": {},
   "outputs": [],
   "source": [
    "X_train_uv = X_train.copy()\n",
    "X_train_uv = UnitVectorNorm(X_train_uv)\n",
    "\n",
    "X_test_uv = X_test.copy()\n",
    "X_test_uv = UnitVectorNorm(X_test_uv)"
   ]
  },
  {
   "cell_type": "code",
   "execution_count": 38,
   "metadata": {},
   "outputs": [
    {
     "name": "stdout",
     "output_type": "stream",
     "text": [
      "Step 0: Train loss = 0.6931471805599453\n",
      "Step 1000: Train loss = 0.6850507163631953\n",
      "Step 2000: Train loss = 0.6774289199855541\n",
      "Step 3000: Train loss = 0.6699645623443923\n",
      "Step 4000: Train loss = 0.6626542756312124\n",
      "Step 5000: Train loss = 0.6554947267936105\n",
      "Step 6000: Train loss = 0.6484826204430798\n",
      "Step 7000: Train loss = 0.6416147015775417\n",
      "Step 8000: Train loss = 0.6348877580352876\n",
      "Step 9000: Train loss = 0.6282986226903411\n"
     ]
    }
   ],
   "source": [
    "_w__, _b__, train_loss__, test_loss__ = train(X_train_uv, y_train, learning_rate= alpha, epochs= epoch, X_test= X_test_uv, y_test= y_test)"
   ]
  },
  {
   "cell_type": "code",
   "execution_count": 39,
   "metadata": {},
   "outputs": [
    {
     "data": {
      "image/png": "[encoded data removed]",
      "text/plain": [
       "<Figure size 720x432 with 1 Axes>"
      ]
     },
     "metadata": {
      "needs_background": "light"
     },
     "output_type": "display_data"
    }
   ],
   "source": [
    "plot(train_loss__, test_loss__)"
   ]
  },
  {
   "cell_type": "code",
   "execution_count": 40,
   "metadata": {},
   "outputs": [
    {
     "name": "stdout",
     "output_type": "stream",
     "text": [
      "Train set accuracy: 65.0%\n",
      "Test set accuracy: 55.00000000000001%\n",
      "Weight matrix: \n",
      "[[ 1.54612967]\n",
      " [ 1.05801646]\n",
      " [-1.93497044]\n",
      " [-1.83999674]]\n",
      "Bias:  [[0.02173957]]\n"
     ]
    }
   ],
   "source": [
    "print('Train set accuracy: ' + str(accuracy(X_train_uv, y_train, _w__, _b__)) + '%')\n",
    "print('Test set accuracy: ' +  str(accuracy(X_test_uv, y_test, _w__, _b__)) + '%')\n",
    "print('Weight matrix: ')\n",
    "print(_w__)\n",
    "print('Bias: ', _b__)"
   ]
  },
  {
   "cell_type": "markdown",
   "metadata": {},
   "source": [
    "### (Optional) How low can you go?\n",
    "Do anything you want to get the best performance out of the training set. For once, let's overfit to your heart's content."
   ]
  },
  {
   "cell_type": "code",
   "execution_count": 41,
   "metadata": {},
   "outputs": [],
   "source": [
    "# do some fun code here and try to match this :)\n",
    "..."
   ]
  },
  {
   "cell_type": "code",
   "execution_count": 42,
   "metadata": {},
   "outputs": [
    {
     "name": "stdout",
     "output_type": "stream",
     "text": [
      "Weights: [[ 2.8105939 ]\n",
      " [ 2.51105828]\n",
      " [-4.0085978 ]\n",
      " [-4.26208094]]\n",
      "Loss: 65.33247666632995\n",
      "Accuracy: 98.75\n"
     ]
    }
   ],
   "source": [
    "print('Weights:', w)\n",
    "y = 1 / (1 + np.exp(-X_train @ w + b))\n",
    "loss = -np.sum(y_train * np.log(y) + (1 - y_train) * np.log(1 - y))\n",
    "print('Loss:', loss)\n",
    "print('Accuracy:', accuracy(X_train, y_train, w, b))"
   ]
  }
 ],
 "metadata": {
  "kernelspec": {
   "display_name": "Python 3",
   "language": "python",
   "name": "python3"
  },
  "language_info": {
   "codemirror_mode": {
    "name": "ipython",
    "version": 3
   },
   "file_extension": ".py",
   "mimetype": "text/x-python",
   "name": "python",
   "nbconvert_exporter": "python",
   "pygments_lexer": "ipython3",
   "version": "3.8.3"
  }
 },
 "nbformat": 4,
 "nbformat_minor": 4
}
